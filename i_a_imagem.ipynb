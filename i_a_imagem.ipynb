{
 "cells": [
  {
   "cell_type": "code",
   "execution_count": 48,
   "metadata": {},
   "outputs": [
    {
     "data": {
      "text/plain": [
       "8"
      ]
     },
     "execution_count": 48,
     "metadata": {},
     "output_type": "execute_result"
    }
   ],
   "source": [
    "import cv2\n",
    "import os\n",
    "path = 'C:/Users/Windows/Pictures/Camera Roll/'\n",
    "dir = os.listdir(path)\n",
    "imagem = cv2.imread(path+dir[-1])\n",
    "imagem_cinza = cv2.cvtColor(imagem, cv2.COLOR_BGR2GRAY)\n",
    "#detector = cv2.CascadeClassifier(r\"C:\\Users\\Windows\\Downloads\\haarcascade_eye.xml\") ## Olhos\n",
    "detector = cv2.CascadeClassifier(r\"C:\\Users\\Windows\\Downloads\\haarcascade_smile.xml\") ## Sorriso\n",
    "#detector = cv2.CascadeClassifier(r\"C:\\Users\\Windows\\Downloads\\haarcascade_mcs_mouth.xml\") ## Boca\n",
    "resultado = detector.detectMultiScale(imagem_cinza, scaleFactor=1.3, minSize=(30,30))\n",
    "len(resultado)"
   ]
  },
  {
   "cell_type": "code",
   "execution_count": 49,
   "metadata": {},
   "outputs": [
    {
     "data": {
      "text/plain": [
       "-1"
      ]
     },
     "execution_count": 49,
     "metadata": {},
     "output_type": "execute_result"
    }
   ],
   "source": [
    "for(x, y, l, a) in resultado:\n",
    "  cv2.rectangle(imagem, (x, y), (x + l, y + a), (0, 255, 0), 2)\n",
    "cv2.imshow('',imagem)\n",
    "cv2.waitKey(0)"
   ]
  }
 ],
 "metadata": {
  "kernelspec": {
   "display_name": "Python 3",
   "language": "python",
   "name": "python3"
  },
  "language_info": {
   "codemirror_mode": {
    "name": "ipython",
    "version": 3
   },
   "file_extension": ".py",
   "mimetype": "text/x-python",
   "name": "python",
   "nbconvert_exporter": "python",
   "pygments_lexer": "ipython3",
   "version": "3.12.7"
  }
 },
 "nbformat": 4,
 "nbformat_minor": 2
}
